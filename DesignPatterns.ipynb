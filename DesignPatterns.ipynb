{
  "nbformat": 4,
  "nbformat_minor": 0,
  "metadata": {
    "colab": {
      "provenance": [],
      "authorship_tag": "ABX9TyO6D6VC1naVu9ehc+b6U+Pv",
      "include_colab_link": true
    },
    "kernelspec": {
      "name": "python3",
      "display_name": "Python 3"
    },
    "language_info": {
      "name": "python"
    }
  },
  "cells": [
    {
      "cell_type": "markdown",
      "metadata": {
        "id": "view-in-github",
        "colab_type": "text"
      },
      "source": [
        "<a href=\"https://colab.research.google.com/github/oreillyross/DeveloperNotes/blob/master/DesignPatterns.ipynb\" target=\"_parent\"><img src=\"https://colab.research.google.com/assets/colab-badge.svg\" alt=\"Open In Colab\"/></a>"
      ]
    },
    {
      "cell_type": "code",
      "execution_count": 3,
      "metadata": {
        "id": "CKRnnx8KZLsw"
      },
      "outputs": [],
      "source": [
        "class Logger:\n",
        "  \n",
        "  __instance = None\n",
        "\n",
        "  def __init__(self):\n",
        "    raise RuntimeError(\"Cannot directly instantiate a Logger class\")\n",
        "\n",
        "  @classmethod\n",
        "  def get_instance(cls):\n",
        "    if cls.__instance == None:\n",
        "      cls.__instance = cls.__new__(cls)\n",
        "      print(\"Logger class created\")\n",
        "    else:\n",
        "      print(\"Logger instance already exists, returning original one\")\n",
        "    return cls.__instance\n",
        "\n",
        "\n"
      ]
    },
    {
      "cell_type": "code",
      "source": [
        "logger1 = Logger.get_instance()"
      ],
      "metadata": {
        "colab": {
          "base_uri": "https://localhost:8080/"
        },
        "id": "soPsG6ZHZ6e-",
        "outputId": "8e2d4b6a-63bf-41a5-dbb5-a6be6999d855"
      },
      "execution_count": 4,
      "outputs": [
        {
          "output_type": "stream",
          "name": "stdout",
          "text": [
            "Logger class created\n"
          ]
        }
      ]
    },
    {
      "cell_type": "code",
      "source": [
        "logger1"
      ],
      "metadata": {
        "colab": {
          "base_uri": "https://localhost:8080/"
        },
        "id": "3nB5EuDqZ6hv",
        "outputId": "8163802e-e176-4a66-e0dc-fc063758ed8b"
      },
      "execution_count": 5,
      "outputs": [
        {
          "output_type": "execute_result",
          "data": {
            "text/plain": [
              "<__main__.Logger at 0x7f31f1ad5d90>"
            ]
          },
          "metadata": {},
          "execution_count": 5
        }
      ]
    },
    {
      "cell_type": "code",
      "source": [
        "logger2 = Logger.get_instance()"
      ],
      "metadata": {
        "colab": {
          "base_uri": "https://localhost:8080/"
        },
        "id": "TASPEam4Z6kY",
        "outputId": "adbef742-7edd-46c7-c613-36559726bcb1"
      },
      "execution_count": 7,
      "outputs": [
        {
          "output_type": "stream",
          "name": "stdout",
          "text": [
            "Logger instance already exists, returning original one\n"
          ]
        }
      ]
    },
    {
      "cell_type": "code",
      "source": [
        "logger2"
      ],
      "metadata": {
        "colab": {
          "base_uri": "https://localhost:8080/"
        },
        "id": "mCjj_PYjZ6nB",
        "outputId": "76279e8d-d0e4-4226-9fca-7b697609a4d8"
      },
      "execution_count": 8,
      "outputs": [
        {
          "output_type": "execute_result",
          "data": {
            "text/plain": [
              "<__main__.Logger at 0x7f31f1ad5d90>"
            ]
          },
          "metadata": {},
          "execution_count": 8
        }
      ]
    },
    {
      "cell_type": "code",
      "source": [],
      "metadata": {
        "id": "WeXyeanfZ6p9"
      },
      "execution_count": 1,
      "outputs": []
    },
    {
      "cell_type": "code",
      "source": [],
      "metadata": {
        "id": "_T7_oA8fZ6sm"
      },
      "execution_count": 1,
      "outputs": []
    },
    {
      "cell_type": "code",
      "source": [],
      "metadata": {
        "id": "z-aBOw_QZ6vH"
      },
      "execution_count": null,
      "outputs": []
    }
  ]
}